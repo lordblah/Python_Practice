{
 "cells": [
  {
   "cell_type": "markdown",
   "id": "7a8126c7",
   "metadata": {
    "papermill": {
     "duration": 0.005909,
     "end_time": "2023-05-23T07:06:23.062758",
     "exception": false,
     "start_time": "2023-05-23T07:06:23.056849",
     "status": "completed"
    },
    "tags": []
   },
   "source": [
    "**This notebook is an exercise in the [Pandas](https://www.kaggle.com/learn/pandas) course.  You can reference the tutorial at [this link](https://www.kaggle.com/residentmario/data-types-and-missing-values).**\n",
    "\n",
    "---\n"
   ]
  },
  {
   "cell_type": "markdown",
   "id": "475f6643",
   "metadata": {
    "papermill": {
     "duration": 0.00505,
     "end_time": "2023-05-23T07:06:23.073514",
     "exception": false,
     "start_time": "2023-05-23T07:06:23.068464",
     "status": "completed"
    },
    "tags": []
   },
   "source": [
    "# Introduction\n",
    "\n",
    "Run the following cell to load your data and some utility functions."
   ]
  },
  {
   "cell_type": "code",
   "execution_count": 1,
   "id": "d10a6f83",
   "metadata": {
    "execution": {
     "iopub.execute_input": "2023-05-23T07:06:23.086752Z",
     "iopub.status.busy": "2023-05-23T07:06:23.085986Z",
     "iopub.status.idle": "2023-05-23T07:06:26.410231Z",
     "shell.execute_reply": "2023-05-23T07:06:26.408865Z"
    },
    "papermill": {
     "duration": 3.334156,
     "end_time": "2023-05-23T07:06:26.412951",
     "exception": false,
     "start_time": "2023-05-23T07:06:23.078795",
     "status": "completed"
    },
    "tags": []
   },
   "outputs": [
    {
     "name": "stdout",
     "output_type": "stream",
     "text": [
      "Setup complete.\n"
     ]
    }
   ],
   "source": [
    "import pandas as pd\n",
    "\n",
    "reviews = pd.read_csv(\"../input/wine-reviews/winemag-data-130k-v2.csv\", index_col=0)\n",
    "\n",
    "from learntools.core import binder; binder.bind(globals())\n",
    "from learntools.pandas.data_types_and_missing_data import *\n",
    "print(\"Setup complete.\")"
   ]
  },
  {
   "cell_type": "markdown",
   "id": "53e4f779",
   "metadata": {
    "papermill": {
     "duration": 0.005232,
     "end_time": "2023-05-23T07:06:26.423906",
     "exception": false,
     "start_time": "2023-05-23T07:06:26.418674",
     "status": "completed"
    },
    "tags": []
   },
   "source": [
    "# Exercises"
   ]
  },
  {
   "cell_type": "markdown",
   "id": "5da61da2",
   "metadata": {
    "papermill": {
     "duration": 0.005243,
     "end_time": "2023-05-23T07:06:26.434503",
     "exception": false,
     "start_time": "2023-05-23T07:06:26.429260",
     "status": "completed"
    },
    "tags": []
   },
   "source": [
    "## 1. \n",
    "What is the data type of the `points` column in the dataset?"
   ]
  },
  {
   "cell_type": "code",
   "execution_count": 2,
   "id": "3de0eb3f",
   "metadata": {
    "execution": {
     "iopub.execute_input": "2023-05-23T07:06:26.447005Z",
     "iopub.status.busy": "2023-05-23T07:06:26.446605Z",
     "iopub.status.idle": "2023-05-23T07:06:26.456630Z",
     "shell.execute_reply": "2023-05-23T07:06:26.455666Z"
    },
    "papermill": {
     "duration": 0.018944,
     "end_time": "2023-05-23T07:06:26.458872",
     "exception": false,
     "start_time": "2023-05-23T07:06:26.439928",
     "status": "completed"
    },
    "tags": []
   },
   "outputs": [
    {
     "data": {
      "application/javascript": [
       "parent.postMessage({\"jupyterEvent\": \"custom.exercise_interaction\", \"data\": {\"outcomeType\": 1, \"valueTowardsCompletion\": 0.25, \"interactionType\": 1, \"questionType\": 1, \"questionId\": \"1_PointsDtype\", \"learnToolsVersion\": \"0.3.4\", \"failureMessage\": \"\", \"exceptionClass\": \"\", \"trace\": \"\"}}, \"*\")"
      ],
      "text/plain": [
       "<IPython.core.display.Javascript object>"
      ]
     },
     "metadata": {},
     "output_type": "display_data"
    },
    {
     "data": {
      "text/markdown": [
       "<span style=\"color:#33cc33\">Correct</span>"
      ],
      "text/plain": [
       "Correct"
      ]
     },
     "metadata": {},
     "output_type": "display_data"
    }
   ],
   "source": [
    "# Your code here\n",
    "dtype = reviews.points.dtype\n",
    "\n",
    "# Check your answer\n",
    "q1.check()"
   ]
  },
  {
   "cell_type": "code",
   "execution_count": 3,
   "id": "ca67486e",
   "metadata": {
    "execution": {
     "iopub.execute_input": "2023-05-23T07:06:26.472590Z",
     "iopub.status.busy": "2023-05-23T07:06:26.471810Z",
     "iopub.status.idle": "2023-05-23T07:06:26.476267Z",
     "shell.execute_reply": "2023-05-23T07:06:26.475444Z"
    },
    "papermill": {
     "duration": 0.01382,
     "end_time": "2023-05-23T07:06:26.478466",
     "exception": false,
     "start_time": "2023-05-23T07:06:26.464646",
     "status": "completed"
    },
    "tags": []
   },
   "outputs": [],
   "source": [
    "#q1.hint()\n",
    "#q1.solution()"
   ]
  },
  {
   "cell_type": "markdown",
   "id": "16be6ded",
   "metadata": {
    "papermill": {
     "duration": 0.005697,
     "end_time": "2023-05-23T07:06:26.490111",
     "exception": false,
     "start_time": "2023-05-23T07:06:26.484414",
     "status": "completed"
    },
    "tags": []
   },
   "source": [
    "## 2. \n",
    "Create a Series from entries in the `points` column, but convert the entries to strings. Hint: strings are `str` in native Python."
   ]
  },
  {
   "cell_type": "code",
   "execution_count": 4,
   "id": "171d8645",
   "metadata": {
    "execution": {
     "iopub.execute_input": "2023-05-23T07:06:26.504585Z",
     "iopub.status.busy": "2023-05-23T07:06:26.503803Z",
     "iopub.status.idle": "2023-05-23T07:06:26.603006Z",
     "shell.execute_reply": "2023-05-23T07:06:26.601792Z"
    },
    "papermill": {
     "duration": 0.108983,
     "end_time": "2023-05-23T07:06:26.605439",
     "exception": false,
     "start_time": "2023-05-23T07:06:26.496456",
     "status": "completed"
    },
    "tags": []
   },
   "outputs": [
    {
     "data": {
      "application/javascript": [
       "parent.postMessage({\"jupyterEvent\": \"custom.exercise_interaction\", \"data\": {\"outcomeType\": 1, \"valueTowardsCompletion\": 0.25, \"interactionType\": 1, \"questionType\": 1, \"questionId\": \"2_StrPoints\", \"learnToolsVersion\": \"0.3.4\", \"failureMessage\": \"\", \"exceptionClass\": \"\", \"trace\": \"\"}}, \"*\")"
      ],
      "text/plain": [
       "<IPython.core.display.Javascript object>"
      ]
     },
     "metadata": {},
     "output_type": "display_data"
    },
    {
     "data": {
      "text/markdown": [
       "<span style=\"color:#33cc33\">Correct</span>"
      ],
      "text/plain": [
       "Correct"
      ]
     },
     "metadata": {},
     "output_type": "display_data"
    }
   ],
   "source": [
    "point_strings = reviews.points.astype('str')\n",
    "\n",
    "# Check your answer\n",
    "q2.check()"
   ]
  },
  {
   "cell_type": "code",
   "execution_count": 5,
   "id": "2785c737",
   "metadata": {
    "execution": {
     "iopub.execute_input": "2023-05-23T07:06:26.620646Z",
     "iopub.status.busy": "2023-05-23T07:06:26.619514Z",
     "iopub.status.idle": "2023-05-23T07:06:26.625291Z",
     "shell.execute_reply": "2023-05-23T07:06:26.624161Z"
    },
    "papermill": {
     "duration": 0.01592,
     "end_time": "2023-05-23T07:06:26.627764",
     "exception": false,
     "start_time": "2023-05-23T07:06:26.611844",
     "status": "completed"
    },
    "tags": []
   },
   "outputs": [],
   "source": [
    "#q2.hint()\n",
    "#q2.solution()"
   ]
  },
  {
   "cell_type": "markdown",
   "id": "d6517f1e",
   "metadata": {
    "papermill": {
     "duration": 0.006332,
     "end_time": "2023-05-23T07:06:26.640568",
     "exception": false,
     "start_time": "2023-05-23T07:06:26.634236",
     "status": "completed"
    },
    "tags": []
   },
   "source": [
    "## 3.\n",
    "Sometimes the price column is null. How many reviews in the dataset are missing a price?"
   ]
  },
  {
   "cell_type": "code",
   "execution_count": 6,
   "id": "09fc5652",
   "metadata": {
    "execution": {
     "iopub.execute_input": "2023-05-23T07:06:26.655120Z",
     "iopub.status.busy": "2023-05-23T07:06:26.654743Z",
     "iopub.status.idle": "2023-05-23T07:06:26.665411Z",
     "shell.execute_reply": "2023-05-23T07:06:26.664404Z"
    },
    "papermill": {
     "duration": 0.020618,
     "end_time": "2023-05-23T07:06:26.667604",
     "exception": false,
     "start_time": "2023-05-23T07:06:26.646986",
     "status": "completed"
    },
    "tags": []
   },
   "outputs": [
    {
     "data": {
      "application/javascript": [
       "parent.postMessage({\"jupyterEvent\": \"custom.exercise_interaction\", \"data\": {\"outcomeType\": 1, \"valueTowardsCompletion\": 0.25, \"interactionType\": 1, \"questionType\": 1, \"questionId\": \"3_CountMissingPrices\", \"learnToolsVersion\": \"0.3.4\", \"failureMessage\": \"\", \"exceptionClass\": \"\", \"trace\": \"\"}}, \"*\")"
      ],
      "text/plain": [
       "<IPython.core.display.Javascript object>"
      ]
     },
     "metadata": {},
     "output_type": "display_data"
    },
    {
     "data": {
      "text/markdown": [
       "<span style=\"color:#33cc33\">Correct</span>"
      ],
      "text/plain": [
       "Correct"
      ]
     },
     "metadata": {},
     "output_type": "display_data"
    }
   ],
   "source": [
    "n_missing_prices = reviews.price.isnull().sum()\n",
    "reviews.price.isnull().sum()\n",
    "# Check your answer\n",
    "q3.check()"
   ]
  },
  {
   "cell_type": "code",
   "execution_count": 7,
   "id": "a56b00c8",
   "metadata": {
    "execution": {
     "iopub.execute_input": "2023-05-23T07:06:26.682697Z",
     "iopub.status.busy": "2023-05-23T07:06:26.682295Z",
     "iopub.status.idle": "2023-05-23T07:06:26.691363Z",
     "shell.execute_reply": "2023-05-23T07:06:26.690213Z"
    },
    "papermill": {
     "duration": 0.019638,
     "end_time": "2023-05-23T07:06:26.693890",
     "exception": false,
     "start_time": "2023-05-23T07:06:26.674252",
     "status": "completed"
    },
    "tags": []
   },
   "outputs": [
    {
     "data": {
      "application/javascript": [
       "parent.postMessage({\"jupyterEvent\": \"custom.exercise_interaction\", \"data\": {\"interactionType\": 3, \"questionType\": 1, \"questionId\": \"3_CountMissingPrices\", \"learnToolsVersion\": \"0.3.4\", \"valueTowardsCompletion\": 0.0, \"failureMessage\": \"\", \"exceptionClass\": \"\", \"trace\": \"\", \"outcomeType\": 4}}, \"*\")"
      ],
      "text/plain": [
       "<IPython.core.display.Javascript object>"
      ]
     },
     "metadata": {},
     "output_type": "display_data"
    },
    {
     "data": {
      "text/markdown": [
       "<span style=\"color:#33cc99\">Solution:</span> \n",
       "```python\n",
       "missing_price_reviews = reviews[reviews.price.isnull()]\n",
       "n_missing_prices = len(missing_price_reviews)\n",
       "# Cute alternative solution: if we sum a boolean series, True is treated as 1 and False as 0\n",
       "n_missing_prices = reviews.price.isnull().sum()\n",
       "# or equivalently:\n",
       "n_missing_prices = pd.isnull(reviews.price).sum()\n",
       "\n",
       "```"
      ],
      "text/plain": [
       "Solution: \n",
       "```python\n",
       "missing_price_reviews = reviews[reviews.price.isnull()]\n",
       "n_missing_prices = len(missing_price_reviews)\n",
       "# Cute alternative solution: if we sum a boolean series, True is treated as 1 and False as 0\n",
       "n_missing_prices = reviews.price.isnull().sum()\n",
       "# or equivalently:\n",
       "n_missing_prices = pd.isnull(reviews.price).sum()\n",
       "\n",
       "```"
      ]
     },
     "metadata": {},
     "output_type": "display_data"
    }
   ],
   "source": [
    "#q3.hint()\n",
    "q3.solution()\n"
   ]
  },
  {
   "cell_type": "markdown",
   "id": "abff799b",
   "metadata": {
    "papermill": {
     "duration": 0.006686,
     "end_time": "2023-05-23T07:06:26.707662",
     "exception": false,
     "start_time": "2023-05-23T07:06:26.700976",
     "status": "completed"
    },
    "tags": []
   },
   "source": [
    "## 4.\n",
    "What are the most common wine-producing regions? Create a Series counting the number of times each value occurs in the `region_1` field. This field is often missing data, so replace missing values with `Unknown`. Sort in descending order.  Your output should look something like this:\n",
    "\n",
    "```\n",
    "Unknown                    21247\n",
    "Napa Valley                 4480\n",
    "                           ...  \n",
    "Bardolino Superiore            1\n",
    "Primitivo del Tarantino        1\n",
    "Name: region_1, Length: 1230, dtype: int64\n",
    "```"
   ]
  },
  {
   "cell_type": "code",
   "execution_count": 8,
   "id": "6827c62b",
   "metadata": {
    "execution": {
     "iopub.execute_input": "2023-05-23T07:06:26.723697Z",
     "iopub.status.busy": "2023-05-23T07:06:26.723292Z",
     "iopub.status.idle": "2023-05-23T07:06:26.804582Z",
     "shell.execute_reply": "2023-05-23T07:06:26.803556Z"
    },
    "papermill": {
     "duration": 0.092258,
     "end_time": "2023-05-23T07:06:26.806968",
     "exception": false,
     "start_time": "2023-05-23T07:06:26.714710",
     "status": "completed"
    },
    "tags": []
   },
   "outputs": [
    {
     "data": {
      "application/javascript": [
       "parent.postMessage({\"jupyterEvent\": \"custom.exercise_interaction\", \"data\": {\"outcomeType\": 1, \"valueTowardsCompletion\": 0.25, \"interactionType\": 1, \"questionType\": 2, \"questionId\": \"4_ReviewsPerRegion\", \"learnToolsVersion\": \"0.3.4\", \"failureMessage\": \"\", \"exceptionClass\": \"\", \"trace\": \"\"}}, \"*\")"
      ],
      "text/plain": [
       "<IPython.core.display.Javascript object>"
      ]
     },
     "metadata": {},
     "output_type": "display_data"
    },
    {
     "data": {
      "text/markdown": [
       "<span style=\"color:#33cc33\">Correct</span>"
      ],
      "text/plain": [
       "Correct"
      ]
     },
     "metadata": {},
     "output_type": "display_data"
    }
   ],
   "source": [
    "reviews_per_region = reviews.region_1.fillna(\"Unknown\").value_counts().sort_values(ascending=False)\n",
    "\n",
    "# Check your answer\n",
    "q4.check()"
   ]
  },
  {
   "cell_type": "code",
   "execution_count": 9,
   "id": "cde40ce2",
   "metadata": {
    "execution": {
     "iopub.execute_input": "2023-05-23T07:06:26.824223Z",
     "iopub.status.busy": "2023-05-23T07:06:26.823819Z",
     "iopub.status.idle": "2023-05-23T07:06:26.832149Z",
     "shell.execute_reply": "2023-05-23T07:06:26.831084Z"
    },
    "papermill": {
     "duration": 0.019902,
     "end_time": "2023-05-23T07:06:26.834449",
     "exception": false,
     "start_time": "2023-05-23T07:06:26.814547",
     "status": "completed"
    },
    "tags": []
   },
   "outputs": [
    {
     "data": {
      "application/javascript": [
       "parent.postMessage({\"jupyterEvent\": \"custom.exercise_interaction\", \"data\": {\"interactionType\": 3, \"questionType\": 2, \"questionId\": \"4_ReviewsPerRegion\", \"learnToolsVersion\": \"0.3.4\", \"valueTowardsCompletion\": 0.0, \"failureMessage\": \"\", \"exceptionClass\": \"\", \"trace\": \"\", \"outcomeType\": 4}}, \"*\")"
      ],
      "text/plain": [
       "<IPython.core.display.Javascript object>"
      ]
     },
     "metadata": {},
     "output_type": "display_data"
    },
    {
     "data": {
      "text/markdown": [
       "<span style=\"color:#33cc99\">Solution:</span> \n",
       "```python\n",
       "reviews_per_region = reviews.region_1.fillna('Unknown').value_counts().sort_values(ascending=False)\n",
       "```"
      ],
      "text/plain": [
       "Solution: \n",
       "```python\n",
       "reviews_per_region = reviews.region_1.fillna('Unknown').value_counts().sort_values(ascending=False)\n",
       "```"
      ]
     },
     "metadata": {},
     "output_type": "display_data"
    }
   ],
   "source": [
    "#q4.hint()\n",
    "q4.solution()"
   ]
  },
  {
   "cell_type": "markdown",
   "id": "6bcddd0b",
   "metadata": {
    "papermill": {
     "duration": 0.007227,
     "end_time": "2023-05-23T07:06:26.849409",
     "exception": false,
     "start_time": "2023-05-23T07:06:26.842182",
     "status": "completed"
    },
    "tags": []
   },
   "source": [
    "# Keep going\n",
    "\n",
    "Move on to **[renaming and combining](https://www.kaggle.com/residentmario/renaming-and-combining)**."
   ]
  },
  {
   "cell_type": "markdown",
   "id": "8d698bf6",
   "metadata": {
    "papermill": {
     "duration": 0.007309,
     "end_time": "2023-05-23T07:06:26.864246",
     "exception": false,
     "start_time": "2023-05-23T07:06:26.856937",
     "status": "completed"
    },
    "tags": []
   },
   "source": [
    "---\n",
    "\n",
    "\n",
    "\n",
    "\n",
    "*Have questions or comments? Visit the [course discussion forum](https://www.kaggle.com/learn/pandas/discussion) to chat with other learners.*"
   ]
  }
 ],
 "metadata": {
  "kernelspec": {
   "display_name": "Python 3",
   "language": "python",
   "name": "python3"
  },
  "language_info": {
   "codemirror_mode": {
    "name": "ipython",
    "version": 3
   },
   "file_extension": ".py",
   "mimetype": "text/x-python",
   "name": "python",
   "nbconvert_exporter": "python",
   "pygments_lexer": "ipython3",
   "version": "3.10.10"
  },
  "papermill": {
   "default_parameters": {},
   "duration": 17.014713,
   "end_time": "2023-05-23T07:06:27.794660",
   "environment_variables": {},
   "exception": null,
   "input_path": "__notebook__.ipynb",
   "output_path": "__notebook__.ipynb",
   "parameters": {},
   "start_time": "2023-05-23T07:06:10.779947",
   "version": "2.4.0"
  }
 },
 "nbformat": 4,
 "nbformat_minor": 5
}
