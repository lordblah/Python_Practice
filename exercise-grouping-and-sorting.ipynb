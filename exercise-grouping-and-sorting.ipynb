{
 "cells": [
  {
   "cell_type": "markdown",
   "id": "e82123ee",
   "metadata": {
    "papermill": {
     "duration": 0.005678,
     "end_time": "2023-05-23T06:50:32.250299",
     "exception": false,
     "start_time": "2023-05-23T06:50:32.244621",
     "status": "completed"
    },
    "tags": []
   },
   "source": [
    "**This notebook is an exercise in the [Pandas](https://www.kaggle.com/learn/pandas) course.  You can reference the tutorial at [this link](https://www.kaggle.com/residentmario/grouping-and-sorting).**\n",
    "\n",
    "---\n"
   ]
  },
  {
   "cell_type": "markdown",
   "id": "5971b6f1",
   "metadata": {
    "papermill": {
     "duration": 0.005014,
     "end_time": "2023-05-23T06:50:32.261033",
     "exception": false,
     "start_time": "2023-05-23T06:50:32.256019",
     "status": "completed"
    },
    "tags": []
   },
   "source": [
    "# Introduction\n",
    "\n",
    "In these exercises we'll apply groupwise analysis to our dataset.\n",
    "\n",
    "Run the code cell below to load the data before running the exercises."
   ]
  },
  {
   "cell_type": "code",
   "execution_count": 1,
   "id": "d2ea59ec",
   "metadata": {
    "execution": {
     "iopub.execute_input": "2023-05-23T06:50:32.273376Z",
     "iopub.status.busy": "2023-05-23T06:50:32.272985Z",
     "iopub.status.idle": "2023-05-23T06:50:35.363679Z",
     "shell.execute_reply": "2023-05-23T06:50:35.362498Z"
    },
    "papermill": {
     "duration": 3.100029,
     "end_time": "2023-05-23T06:50:35.366454",
     "exception": false,
     "start_time": "2023-05-23T06:50:32.266425",
     "status": "completed"
    },
    "tags": []
   },
   "outputs": [
    {
     "name": "stdout",
     "output_type": "stream",
     "text": [
      "Setup complete.\n"
     ]
    }
   ],
   "source": [
    "import pandas as pd\n",
    "\n",
    "reviews = pd.read_csv(\"../input/wine-reviews/winemag-data-130k-v2.csv\", index_col=0)\n",
    "#pd.set_option(\"display.max_rows\", 5)\n",
    "\n",
    "from learntools.core import binder; binder.bind(globals())\n",
    "from learntools.pandas.grouping_and_sorting import *\n",
    "print(\"Setup complete.\")"
   ]
  },
  {
   "cell_type": "markdown",
   "id": "3a120c7f",
   "metadata": {
    "papermill": {
     "duration": 0.005053,
     "end_time": "2023-05-23T06:50:35.377072",
     "exception": false,
     "start_time": "2023-05-23T06:50:35.372019",
     "status": "completed"
    },
    "tags": []
   },
   "source": [
    "# Exercises"
   ]
  },
  {
   "cell_type": "markdown",
   "id": "25f26d05",
   "metadata": {
    "papermill": {
     "duration": 0.005205,
     "end_time": "2023-05-23T06:50:35.387624",
     "exception": false,
     "start_time": "2023-05-23T06:50:35.382419",
     "status": "completed"
    },
    "tags": []
   },
   "source": [
    "## 1.\n",
    "Who are the most common wine reviewers in the dataset? Create a `Series` whose index is the `taster_twitter_handle` category from the dataset, and whose values count how many reviews each person wrote."
   ]
  },
  {
   "cell_type": "code",
   "execution_count": 2,
   "id": "70972913",
   "metadata": {
    "execution": {
     "iopub.execute_input": "2023-05-23T06:50:35.400089Z",
     "iopub.status.busy": "2023-05-23T06:50:35.399706Z",
     "iopub.status.idle": "2023-05-23T06:50:35.428882Z",
     "shell.execute_reply": "2023-05-23T06:50:35.427774Z"
    },
    "papermill": {
     "duration": 0.03806,
     "end_time": "2023-05-23T06:50:35.431094",
     "exception": false,
     "start_time": "2023-05-23T06:50:35.393034",
     "status": "completed"
    },
    "tags": []
   },
   "outputs": [
    {
     "name": "stdout",
     "output_type": "stream",
     "text": [
      "taster_twitter_handle\n",
      "@AnneInVino          3685\n",
      "@JoeCz               5147\n",
      "@bkfiona               27\n",
      "@gordone_cellars     4177\n",
      "@kerinokeefe        10776\n",
      "@laurbuzz            1835\n",
      "@mattkettmann        6332\n",
      "@paulgwine           9532\n",
      "@suskostrzewa        1085\n",
      "@vboone              9537\n",
      "@vossroger          25514\n",
      "@wawinereport        4966\n",
      "@wineschach         15134\n",
      "@winewchristina         6\n",
      "@worldwineguys       1005\n",
      "Name: taster_twitter_handle, dtype: int64\n"
     ]
    },
    {
     "data": {
      "application/javascript": [
       "parent.postMessage({\"jupyterEvent\": \"custom.exercise_interaction\", \"data\": {\"outcomeType\": 1, \"valueTowardsCompletion\": 0.16666666666666666, \"interactionType\": 1, \"questionType\": 1, \"questionId\": \"1_ReviewsWritten\", \"learnToolsVersion\": \"0.3.4\", \"failureMessage\": \"\", \"exceptionClass\": \"\", \"trace\": \"\"}}, \"*\")"
      ],
      "text/plain": [
       "<IPython.core.display.Javascript object>"
      ]
     },
     "metadata": {},
     "output_type": "display_data"
    },
    {
     "data": {
      "text/markdown": [
       "<span style=\"color:#33cc33\">Correct:</span> \n",
       "\n",
       "\n",
       "```python\n",
       "reviews_written = reviews.groupby('taster_twitter_handle').size()\n",
       "```\n",
       "or\n",
       "```python\n",
       "reviews_written = reviews.groupby('taster_twitter_handle').taster_twitter_handle.count()\n",
       "```\n"
      ],
      "text/plain": [
       "Correct: \n",
       "\n",
       "\n",
       "```python\n",
       "reviews_written = reviews.groupby('taster_twitter_handle').size()\n",
       "```\n",
       "or\n",
       "```python\n",
       "reviews_written = reviews.groupby('taster_twitter_handle').taster_twitter_handle.count()\n",
       "```"
      ]
     },
     "metadata": {},
     "output_type": "display_data"
    }
   ],
   "source": [
    "# Your code here\n",
    "reviews_written =  reviews.groupby('taster_twitter_handle').taster_twitter_handle.count()\n",
    "print(reviews_written)\n",
    "# Check your answer\n",
    "q1.check()"
   ]
  },
  {
   "cell_type": "code",
   "execution_count": 3,
   "id": "0b599093",
   "metadata": {
    "execution": {
     "iopub.execute_input": "2023-05-23T06:50:35.445621Z",
     "iopub.status.busy": "2023-05-23T06:50:35.444549Z",
     "iopub.status.idle": "2023-05-23T06:50:35.449079Z",
     "shell.execute_reply": "2023-05-23T06:50:35.448112Z"
    },
    "papermill": {
     "duration": 0.014432,
     "end_time": "2023-05-23T06:50:35.451305",
     "exception": false,
     "start_time": "2023-05-23T06:50:35.436873",
     "status": "completed"
    },
    "tags": []
   },
   "outputs": [],
   "source": [
    "#q1.hint()\n",
    "#q1.solution()"
   ]
  },
  {
   "cell_type": "markdown",
   "id": "f302afb9",
   "metadata": {
    "papermill": {
     "duration": 0.005721,
     "end_time": "2023-05-23T06:50:35.463052",
     "exception": false,
     "start_time": "2023-05-23T06:50:35.457331",
     "status": "completed"
    },
    "tags": []
   },
   "source": [
    "## 2.\n",
    "What is the best wine I can buy for a given amount of money? Create a `Series` whose index is wine prices and whose values is the maximum number of points a wine costing that much was given in a review. Sort the values by price, ascending (so that `4.0` dollars is at the top and `3300.0` dollars is at the bottom)."
   ]
  },
  {
   "cell_type": "code",
   "execution_count": 4,
   "id": "fc5fc7d2",
   "metadata": {
    "execution": {
     "iopub.execute_input": "2023-05-23T06:50:35.477107Z",
     "iopub.status.busy": "2023-05-23T06:50:35.476324Z",
     "iopub.status.idle": "2023-05-23T06:50:35.498742Z",
     "shell.execute_reply": "2023-05-23T06:50:35.497683Z"
    },
    "papermill": {
     "duration": 0.031633,
     "end_time": "2023-05-23T06:50:35.500861",
     "exception": false,
     "start_time": "2023-05-23T06:50:35.469228",
     "status": "completed"
    },
    "tags": []
   },
   "outputs": [
    {
     "name": "stdout",
     "output_type": "stream",
     "text": [
      "price\n",
      "4.0       86\n",
      "5.0       87\n",
      "6.0       88\n",
      "7.0       91\n",
      "8.0       91\n",
      "          ..\n",
      "1900.0    98\n",
      "2000.0    97\n",
      "2013.0    91\n",
      "2500.0    96\n",
      "3300.0    88\n",
      "Name: points, Length: 390, dtype: int64\n"
     ]
    },
    {
     "data": {
      "application/javascript": [
       "parent.postMessage({\"jupyterEvent\": \"custom.exercise_interaction\", \"data\": {\"outcomeType\": 1, \"valueTowardsCompletion\": 0.16666666666666666, \"interactionType\": 1, \"questionType\": 1, \"questionId\": \"2_BestRatingPerPrice\", \"learnToolsVersion\": \"0.3.4\", \"failureMessage\": \"\", \"exceptionClass\": \"\", \"trace\": \"\"}}, \"*\")"
      ],
      "text/plain": [
       "<IPython.core.display.Javascript object>"
      ]
     },
     "metadata": {},
     "output_type": "display_data"
    },
    {
     "data": {
      "text/markdown": [
       "<span style=\"color:#33cc33\">Correct</span>"
      ],
      "text/plain": [
       "Correct"
      ]
     },
     "metadata": {},
     "output_type": "display_data"
    }
   ],
   "source": [
    "best_rating_per_price = reviews.groupby('price')['points'].max().sort_index()\n",
    "reviews.groupby('price')['points'].max().sort_index()\n",
    "print(best_rating_per_price)\n",
    "# Check your answer\n",
    "q2.check()"
   ]
  },
  {
   "cell_type": "code",
   "execution_count": 5,
   "id": "b85c7670",
   "metadata": {
    "execution": {
     "iopub.execute_input": "2023-05-23T06:50:35.515186Z",
     "iopub.status.busy": "2023-05-23T06:50:35.514443Z",
     "iopub.status.idle": "2023-05-23T06:50:35.522619Z",
     "shell.execute_reply": "2023-05-23T06:50:35.521584Z"
    },
    "papermill": {
     "duration": 0.017785,
     "end_time": "2023-05-23T06:50:35.524818",
     "exception": false,
     "start_time": "2023-05-23T06:50:35.507033",
     "status": "completed"
    },
    "tags": []
   },
   "outputs": [
    {
     "data": {
      "application/javascript": [
       "parent.postMessage({\"jupyterEvent\": \"custom.exercise_interaction\", \"data\": {\"interactionType\": 3, \"questionType\": 1, \"questionId\": \"2_BestRatingPerPrice\", \"learnToolsVersion\": \"0.3.4\", \"valueTowardsCompletion\": 0.0, \"failureMessage\": \"\", \"exceptionClass\": \"\", \"trace\": \"\", \"outcomeType\": 4}}, \"*\")"
      ],
      "text/plain": [
       "<IPython.core.display.Javascript object>"
      ]
     },
     "metadata": {},
     "output_type": "display_data"
    },
    {
     "data": {
      "text/markdown": [
       "<span style=\"color:#33cc99\">Solution:</span> \n",
       "```python\n",
       "best_rating_per_price = reviews.groupby('price')['points'].max().sort_index()\n",
       "```"
      ],
      "text/plain": [
       "Solution: \n",
       "```python\n",
       "best_rating_per_price = reviews.groupby('price')['points'].max().sort_index()\n",
       "```"
      ]
     },
     "metadata": {},
     "output_type": "display_data"
    }
   ],
   "source": [
    "#q2.hint()\n",
    "q2.solution()"
   ]
  },
  {
   "cell_type": "markdown",
   "id": "f7364286",
   "metadata": {
    "papermill": {
     "duration": 0.006632,
     "end_time": "2023-05-23T06:50:35.537869",
     "exception": false,
     "start_time": "2023-05-23T06:50:35.531237",
     "status": "completed"
    },
    "tags": []
   },
   "source": [
    "## 3.\n",
    "What are the minimum and maximum prices for each `variety` of wine? Create a `DataFrame` whose index is the `variety` category from the dataset and whose values are the `min` and `max` values thereof."
   ]
  },
  {
   "cell_type": "code",
   "execution_count": 6,
   "id": "9243672d",
   "metadata": {
    "execution": {
     "iopub.execute_input": "2023-05-23T06:50:35.552030Z",
     "iopub.status.busy": "2023-05-23T06:50:35.551621Z",
     "iopub.status.idle": "2023-05-23T06:50:35.586918Z",
     "shell.execute_reply": "2023-05-23T06:50:35.585898Z"
    },
    "papermill": {
     "duration": 0.045184,
     "end_time": "2023-05-23T06:50:35.589323",
     "exception": false,
     "start_time": "2023-05-23T06:50:35.544139",
     "status": "completed"
    },
    "tags": []
   },
   "outputs": [
    {
     "name": "stdout",
     "output_type": "stream",
     "text": [
      "              min    max\n",
      "variety                 \n",
      "Abouriou     15.0   75.0\n",
      "Agiorgitiko  10.0   66.0\n",
      "Aglianico     6.0  180.0\n",
      "Aidani       27.0   27.0\n",
      "Airen         8.0   10.0\n",
      "...           ...    ...\n",
      "Zinfandel     5.0  100.0\n",
      "Zlahtina     13.0   16.0\n",
      "Zweigelt      9.0   70.0\n",
      "Çalkarası    19.0   19.0\n",
      "Žilavka      15.0   15.0\n",
      "\n",
      "[707 rows x 2 columns]\n"
     ]
    },
    {
     "data": {
      "application/javascript": [
       "parent.postMessage({\"jupyterEvent\": \"custom.exercise_interaction\", \"data\": {\"outcomeType\": 1, \"valueTowardsCompletion\": 0.16666666666666666, \"interactionType\": 1, \"questionType\": 1, \"questionId\": \"3_PriceExtremes\", \"learnToolsVersion\": \"0.3.4\", \"failureMessage\": \"\", \"exceptionClass\": \"\", \"trace\": \"\"}}, \"*\")"
      ],
      "text/plain": [
       "<IPython.core.display.Javascript object>"
      ]
     },
     "metadata": {},
     "output_type": "display_data"
    },
    {
     "data": {
      "text/markdown": [
       "<span style=\"color:#33cc33\">Correct</span>"
      ],
      "text/plain": [
       "Correct"
      ]
     },
     "metadata": {},
     "output_type": "display_data"
    }
   ],
   "source": [
    "price_extremes = reviews.groupby('variety').price.agg([min,max])\n",
    "print(price_extremes)\n",
    "# Check your answer\n",
    "q3.check()"
   ]
  },
  {
   "cell_type": "code",
   "execution_count": 7,
   "id": "84674ff7",
   "metadata": {
    "execution": {
     "iopub.execute_input": "2023-05-23T06:50:35.605487Z",
     "iopub.status.busy": "2023-05-23T06:50:35.604514Z",
     "iopub.status.idle": "2023-05-23T06:50:35.608905Z",
     "shell.execute_reply": "2023-05-23T06:50:35.607960Z"
    },
    "papermill": {
     "duration": 0.014953,
     "end_time": "2023-05-23T06:50:35.610966",
     "exception": false,
     "start_time": "2023-05-23T06:50:35.596013",
     "status": "completed"
    },
    "tags": []
   },
   "outputs": [],
   "source": [
    "#q3.hint()\n",
    "#q3.solution()"
   ]
  },
  {
   "cell_type": "markdown",
   "id": "b9788111",
   "metadata": {
    "papermill": {
     "duration": 0.006709,
     "end_time": "2023-05-23T06:50:35.624579",
     "exception": false,
     "start_time": "2023-05-23T06:50:35.617870",
     "status": "completed"
    },
    "tags": []
   },
   "source": [
    "## 4.\n",
    "What are the most expensive wine varieties? Create a variable `sorted_varieties` containing a copy of the dataframe from the previous question where varieties are sorted in descending order based on minimum price, then on maximum price (to break ties)."
   ]
  },
  {
   "cell_type": "code",
   "execution_count": 8,
   "id": "a2e2ea93",
   "metadata": {
    "execution": {
     "iopub.execute_input": "2023-05-23T06:50:35.640445Z",
     "iopub.status.busy": "2023-05-23T06:50:35.639689Z",
     "iopub.status.idle": "2023-05-23T06:50:35.670203Z",
     "shell.execute_reply": "2023-05-23T06:50:35.669121Z"
    },
    "papermill": {
     "duration": 0.041248,
     "end_time": "2023-05-23T06:50:35.672537",
     "exception": false,
     "start_time": "2023-05-23T06:50:35.631289",
     "status": "completed"
    },
    "tags": []
   },
   "outputs": [
    {
     "name": "stdout",
     "output_type": "stream",
     "text": [
      "                                  min    max\n",
      "variety                                     \n",
      "Ramisco                         495.0  495.0\n",
      "Terrantez                       236.0  236.0\n",
      "Francisa                        160.0  160.0\n",
      "Rosenmuskateller                150.0  150.0\n",
      "Tinta Negra Mole                112.0  112.0\n",
      "...                               ...    ...\n",
      "Roscetto                          NaN    NaN\n",
      "Sauvignon Blanc-Sauvignon Gris    NaN    NaN\n",
      "Tempranillo-Malbec                NaN    NaN\n",
      "Vital                             NaN    NaN\n",
      "Zelen                             NaN    NaN\n",
      "\n",
      "[707 rows x 2 columns]\n"
     ]
    },
    {
     "data": {
      "application/javascript": [
       "parent.postMessage({\"jupyterEvent\": \"custom.exercise_interaction\", \"data\": {\"outcomeType\": 1, \"valueTowardsCompletion\": 0.16666666666666666, \"interactionType\": 1, \"questionType\": 1, \"questionId\": \"4_SortedVarieties\", \"learnToolsVersion\": \"0.3.4\", \"failureMessage\": \"\", \"exceptionClass\": \"\", \"trace\": \"\"}}, \"*\")"
      ],
      "text/plain": [
       "<IPython.core.display.Javascript object>"
      ]
     },
     "metadata": {},
     "output_type": "display_data"
    },
    {
     "data": {
      "text/markdown": [
       "<span style=\"color:#33cc33\">Correct</span>"
      ],
      "text/plain": [
       "Correct"
      ]
     },
     "metadata": {},
     "output_type": "display_data"
    }
   ],
   "source": [
    "sorted_varieties = reviews.groupby('variety').price.agg([min,max]).sort_values(by=['min','max'], ascending = False)\n",
    "print(sorted_varieties)\n",
    "\n",
    "# Check your answer\n",
    "q4.check()"
   ]
  },
  {
   "cell_type": "code",
   "execution_count": 9,
   "id": "b12e1994",
   "metadata": {
    "execution": {
     "iopub.execute_input": "2023-05-23T06:50:35.689114Z",
     "iopub.status.busy": "2023-05-23T06:50:35.688114Z",
     "iopub.status.idle": "2023-05-23T06:50:35.692926Z",
     "shell.execute_reply": "2023-05-23T06:50:35.692101Z"
    },
    "papermill": {
     "duration": 0.015511,
     "end_time": "2023-05-23T06:50:35.695131",
     "exception": false,
     "start_time": "2023-05-23T06:50:35.679620",
     "status": "completed"
    },
    "tags": []
   },
   "outputs": [],
   "source": [
    "#q4.hint()\n",
    "#q4.solution()"
   ]
  },
  {
   "cell_type": "markdown",
   "id": "a2342db4",
   "metadata": {
    "papermill": {
     "duration": 0.007205,
     "end_time": "2023-05-23T06:50:35.709665",
     "exception": false,
     "start_time": "2023-05-23T06:50:35.702460",
     "status": "completed"
    },
    "tags": []
   },
   "source": [
    "## 5.\n",
    "Create a `Series` whose index is reviewers and whose values is the average review score given out by that reviewer. Hint: you will need the `taster_name` and `points` columns."
   ]
  },
  {
   "cell_type": "code",
   "execution_count": 10,
   "id": "45e4daa0",
   "metadata": {
    "execution": {
     "iopub.execute_input": "2023-05-23T06:50:35.726586Z",
     "iopub.status.busy": "2023-05-23T06:50:35.725654Z",
     "iopub.status.idle": "2023-05-23T06:50:35.751548Z",
     "shell.execute_reply": "2023-05-23T06:50:35.750427Z"
    },
    "papermill": {
     "duration": 0.036731,
     "end_time": "2023-05-23T06:50:35.753739",
     "exception": false,
     "start_time": "2023-05-23T06:50:35.717008",
     "status": "completed"
    },
    "tags": []
   },
   "outputs": [
    {
     "name": "stdout",
     "output_type": "stream",
     "text": [
      "taster_name\n",
      "Alexander Peartree    85.855422\n",
      "Anna Lee C. Iijima    88.415629\n",
      "Anne Krebiehl MW      90.562551\n",
      "Carrie Dykes          86.395683\n",
      "Christina Pickard     87.833333\n",
      "Fiona Adams           86.888889\n",
      "Jeff Jenssen          88.319756\n",
      "Jim Gordon            88.626287\n",
      "Joe Czerwinski        88.536235\n",
      "Kerin O’Keefe         88.867947\n",
      "Lauren Buzzeo         87.739510\n",
      "Matt Kettmann         90.008686\n",
      "Michael Schachner     86.907493\n",
      "Mike DeSimone         89.101167\n",
      "Paul Gregutt          89.082564\n",
      "Roger Voss            88.708003\n",
      "Sean P. Sullivan      88.755739\n",
      "Susan Kostrzewa       86.609217\n",
      "Virginie Boone        89.213379\n",
      "Name: points, dtype: float64\n"
     ]
    },
    {
     "data": {
      "application/javascript": [
       "parent.postMessage({\"jupyterEvent\": \"custom.exercise_interaction\", \"data\": {\"outcomeType\": 1, \"valueTowardsCompletion\": 0.16666666666666666, \"interactionType\": 1, \"questionType\": 1, \"questionId\": \"5_ReviewerMeanRatings\", \"learnToolsVersion\": \"0.3.4\", \"failureMessage\": \"\", \"exceptionClass\": \"\", \"trace\": \"\"}}, \"*\")"
      ],
      "text/plain": [
       "<IPython.core.display.Javascript object>"
      ]
     },
     "metadata": {},
     "output_type": "display_data"
    },
    {
     "data": {
      "text/markdown": [
       "<span style=\"color:#33cc33\">Correct</span>"
      ],
      "text/plain": [
       "Correct"
      ]
     },
     "metadata": {},
     "output_type": "display_data"
    }
   ],
   "source": [
    "reviewer_mean_ratings = reviews.groupby('taster_name')['points'].mean()\n",
    "print(reviewer_mean_ratings)\n",
    "# Check your answer\n",
    "q5.check()"
   ]
  },
  {
   "cell_type": "code",
   "execution_count": 11,
   "id": "76c1cd9a",
   "metadata": {
    "execution": {
     "iopub.execute_input": "2023-05-23T06:50:35.771230Z",
     "iopub.status.busy": "2023-05-23T06:50:35.770451Z",
     "iopub.status.idle": "2023-05-23T06:50:35.779653Z",
     "shell.execute_reply": "2023-05-23T06:50:35.778478Z"
    },
    "papermill": {
     "duration": 0.020588,
     "end_time": "2023-05-23T06:50:35.781859",
     "exception": false,
     "start_time": "2023-05-23T06:50:35.761271",
     "status": "completed"
    },
    "tags": []
   },
   "outputs": [
    {
     "data": {
      "application/javascript": [
       "parent.postMessage({\"jupyterEvent\": \"custom.exercise_interaction\", \"data\": {\"interactionType\": 3, \"questionType\": 1, \"questionId\": \"5_ReviewerMeanRatings\", \"learnToolsVersion\": \"0.3.4\", \"valueTowardsCompletion\": 0.0, \"failureMessage\": \"\", \"exceptionClass\": \"\", \"trace\": \"\", \"outcomeType\": 4}}, \"*\")"
      ],
      "text/plain": [
       "<IPython.core.display.Javascript object>"
      ]
     },
     "metadata": {},
     "output_type": "display_data"
    },
    {
     "data": {
      "text/markdown": [
       "<span style=\"color:#33cc99\">Solution:</span> \n",
       "```python\n",
       "reviewer_mean_ratings = reviews.groupby('taster_name').points.mean()\n",
       "```"
      ],
      "text/plain": [
       "Solution: \n",
       "```python\n",
       "reviewer_mean_ratings = reviews.groupby('taster_name').points.mean()\n",
       "```"
      ]
     },
     "metadata": {},
     "output_type": "display_data"
    }
   ],
   "source": [
    "#q5.hint()\n",
    "q5.solution()"
   ]
  },
  {
   "cell_type": "markdown",
   "id": "6e8e0d74",
   "metadata": {
    "papermill": {
     "duration": 0.007621,
     "end_time": "2023-05-23T06:50:35.797109",
     "exception": false,
     "start_time": "2023-05-23T06:50:35.789488",
     "status": "completed"
    },
    "tags": []
   },
   "source": [
    "Are there significant differences in the average scores assigned by the various reviewers? Run the cell below to use the `describe()` method to see a summary of the range of values."
   ]
  },
  {
   "cell_type": "code",
   "execution_count": 12,
   "id": "051679e2",
   "metadata": {
    "execution": {
     "iopub.execute_input": "2023-05-23T06:50:35.814375Z",
     "iopub.status.busy": "2023-05-23T06:50:35.814007Z",
     "iopub.status.idle": "2023-05-23T06:50:35.825590Z",
     "shell.execute_reply": "2023-05-23T06:50:35.824510Z"
    },
    "papermill": {
     "duration": 0.022977,
     "end_time": "2023-05-23T06:50:35.827795",
     "exception": false,
     "start_time": "2023-05-23T06:50:35.804818",
     "status": "completed"
    },
    "tags": []
   },
   "outputs": [
    {
     "data": {
      "text/plain": [
       "count    19.000000\n",
       "mean     88.233026\n",
       "std       1.243610\n",
       "min      85.855422\n",
       "25%      87.323501\n",
       "50%      88.536235\n",
       "75%      88.975256\n",
       "max      90.562551\n",
       "Name: points, dtype: float64"
      ]
     },
     "execution_count": 12,
     "metadata": {},
     "output_type": "execute_result"
    }
   ],
   "source": [
    "reviewer_mean_ratings.describe()"
   ]
  },
  {
   "cell_type": "markdown",
   "id": "0ef49e1d",
   "metadata": {
    "papermill": {
     "duration": 0.007704,
     "end_time": "2023-05-23T06:50:35.843264",
     "exception": false,
     "start_time": "2023-05-23T06:50:35.835560",
     "status": "completed"
    },
    "tags": []
   },
   "source": [
    "## 6.\n",
    "What combination of countries and varieties are most common? Create a `Series` whose index is a `MultiIndex`of `{country, variety}` pairs. For example, a pinot noir produced in the US should map to `{\"US\", \"Pinot Noir\"}`. Sort the values in the `Series` in descending order based on wine count."
   ]
  },
  {
   "cell_type": "code",
   "execution_count": 13,
   "id": "f03a76f9",
   "metadata": {
    "execution": {
     "iopub.execute_input": "2023-05-23T06:50:35.860566Z",
     "iopub.status.busy": "2023-05-23T06:50:35.859961Z",
     "iopub.status.idle": "2023-05-23T06:50:35.895431Z",
     "shell.execute_reply": "2023-05-23T06:50:35.894265Z"
    },
    "papermill": {
     "duration": 0.046717,
     "end_time": "2023-05-23T06:50:35.897605",
     "exception": false,
     "start_time": "2023-05-23T06:50:35.850888",
     "status": "completed"
    },
    "tags": []
   },
   "outputs": [
    {
     "data": {
      "application/javascript": [
       "parent.postMessage({\"jupyterEvent\": \"custom.exercise_interaction\", \"data\": {\"outcomeType\": 1, \"valueTowardsCompletion\": 0.16666666666666666, \"interactionType\": 1, \"questionType\": 1, \"questionId\": \"6_GroupbyCountryVariety\", \"learnToolsVersion\": \"0.3.4\", \"failureMessage\": \"\", \"exceptionClass\": \"\", \"trace\": \"\"}}, \"*\")"
      ],
      "text/plain": [
       "<IPython.core.display.Javascript object>"
      ]
     },
     "metadata": {},
     "output_type": "display_data"
    },
    {
     "data": {
      "text/markdown": [
       "<span style=\"color:#33cc33\">Correct</span>"
      ],
      "text/plain": [
       "Correct"
      ]
     },
     "metadata": {},
     "output_type": "display_data"
    }
   ],
   "source": [
    "country_variety_counts = reviews.groupby(['country', 'variety']).size().sort_values(ascending=False)\n",
    "\n",
    "# Check your answer\n",
    "q6.check()"
   ]
  },
  {
   "cell_type": "code",
   "execution_count": 14,
   "id": "40fb72b5",
   "metadata": {
    "execution": {
     "iopub.execute_input": "2023-05-23T06:50:35.915681Z",
     "iopub.status.busy": "2023-05-23T06:50:35.915073Z",
     "iopub.status.idle": "2023-05-23T06:50:35.922846Z",
     "shell.execute_reply": "2023-05-23T06:50:35.921808Z"
    },
    "papermill": {
     "duration": 0.019504,
     "end_time": "2023-05-23T06:50:35.924963",
     "exception": false,
     "start_time": "2023-05-23T06:50:35.905459",
     "status": "completed"
    },
    "tags": []
   },
   "outputs": [
    {
     "data": {
      "application/javascript": [
       "parent.postMessage({\"jupyterEvent\": \"custom.exercise_interaction\", \"data\": {\"interactionType\": 3, \"questionType\": 1, \"questionId\": \"6_GroupbyCountryVariety\", \"learnToolsVersion\": \"0.3.4\", \"valueTowardsCompletion\": 0.0, \"failureMessage\": \"\", \"exceptionClass\": \"\", \"trace\": \"\", \"outcomeType\": 4}}, \"*\")"
      ],
      "text/plain": [
       "<IPython.core.display.Javascript object>"
      ]
     },
     "metadata": {},
     "output_type": "display_data"
    },
    {
     "data": {
      "text/markdown": [
       "<span style=\"color:#33cc99\">Solution:</span> \n",
       "```python\n",
       "country_variety_counts = reviews.groupby(['country', 'variety']).size().sort_values(ascending=False)\n",
       "```"
      ],
      "text/plain": [
       "Solution: \n",
       "```python\n",
       "country_variety_counts = reviews.groupby(['country', 'variety']).size().sort_values(ascending=False)\n",
       "```"
      ]
     },
     "metadata": {},
     "output_type": "display_data"
    }
   ],
   "source": [
    "#q6.hint()\n",
    "q6.solution()"
   ]
  },
  {
   "cell_type": "markdown",
   "id": "68e03980",
   "metadata": {
    "papermill": {
     "duration": 0.008124,
     "end_time": "2023-05-23T06:50:35.941290",
     "exception": false,
     "start_time": "2023-05-23T06:50:35.933166",
     "status": "completed"
    },
    "tags": []
   },
   "source": [
    "# Keep going\n",
    "\n",
    "Move on to the [**data types and missing data**](https://www.kaggle.com/residentmario/data-types-and-missing-values)."
   ]
  },
  {
   "cell_type": "markdown",
   "id": "2e43a519",
   "metadata": {
    "papermill": {
     "duration": 0.007852,
     "end_time": "2023-05-23T06:50:35.957839",
     "exception": false,
     "start_time": "2023-05-23T06:50:35.949987",
     "status": "completed"
    },
    "tags": []
   },
   "source": [
    "---\n",
    "\n",
    "\n",
    "\n",
    "\n",
    "*Have questions or comments? Visit the [course discussion forum](https://www.kaggle.com/learn/pandas/discussion) to chat with other learners.*"
   ]
  }
 ],
 "metadata": {
  "kernelspec": {
   "display_name": "Python 3",
   "language": "python",
   "name": "python3"
  },
  "language_info": {
   "codemirror_mode": {
    "name": "ipython",
    "version": 3
   },
   "file_extension": ".py",
   "mimetype": "text/x-python",
   "name": "python",
   "nbconvert_exporter": "python",
   "pygments_lexer": "ipython3",
   "version": "3.10.10"
  },
  "papermill": {
   "default_parameters": {},
   "duration": 14.425305,
   "end_time": "2023-05-23T06:50:36.790893",
   "environment_variables": {},
   "exception": null,
   "input_path": "__notebook__.ipynb",
   "output_path": "__notebook__.ipynb",
   "parameters": {},
   "start_time": "2023-05-23T06:50:22.365588",
   "version": "2.4.0"
  }
 },
 "nbformat": 4,
 "nbformat_minor": 5
}
